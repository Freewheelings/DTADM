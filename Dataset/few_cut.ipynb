{
 "cells": [
  {
   "cell_type": "code",
   "execution_count": 11,
   "id": "bde13d22-f60f-4e36-b081-5dea55c2be8b",
   "metadata": {},
   "outputs": [
    {
     "name": "stdout",
     "output_type": "stream",
     "text": [
      "Number of rows where label is 1:  4066\n",
      "Number of rows where is_generated is 1:  411748\n",
      "67969\n",
      "656\n"
     ]
    }
   ],
   "source": [
    "import pandas as pd\n",
    "import os\n",
    "from sklearn.model_selection import train_test_split\n",
    "\n",
    "# Load the data\n",
    "data_name = 'mooc'\n",
    "\n",
    "data = pd.read_csv(f'{data_name}.csv', header=None)\n",
    "data.columns = ['source', 'target', 'timestamp', 'label']\n",
    "data = data.sort_values(by='timestamp')\n",
    "data['timestamp'] = pd.qcut(data['timestamp'], q=6, labels=False)\n",
    "data = data.reindex(columns=['source', 'target', 'label', 'timestamp'])\n",
    "data['is_generated'] = 0\n",
    "label_0_count = data[data['label'] == 1].shape[0]\n",
    "# 统计'is_generated'的数量\n",
    "is_generated_count = data[data['is_generated'] == 0].shape[0]\n",
    "print(\"Number of rows where label is 1: \", label_0_count)\n",
    "print(\"Number of rows where is_generated is 1: \", is_generated_count)\n",
    "\n",
    "\n",
    "data_timestamp_9 = data[data['timestamp'] == 5]\n",
    "\n",
    "# 根据label列的值分开数据\n",
    "pos_data = data_timestamp_9[data_timestamp_9['label'] == 0]\n",
    "neg_data = data_timestamp_9[data_timestamp_9['label'] == 1]\n",
    "\n",
    "\n",
    "print(len(pos_data))\n",
    "print(len(neg_data))"
   ]
  },
  {
   "cell_type": "code",
   "execution_count": 12,
   "id": "0efbb236-dda0-4531-b9b7-72b8c9dc9906",
   "metadata": {},
   "outputs": [
    {
     "name": "stdout",
     "output_type": "stream",
     "text": [
      "文件写入完成！\n"
     ]
    }
   ],
   "source": [
    "\n",
    "\n",
    "# 切分数据集\n",
    "temp_pos, test_pos = train_test_split(pos_data, train_size=0.4, random_state=42)\n",
    "train_pos, valid_pos = train_test_split(temp_pos, train_size=0.5, random_state=42)\n",
    "\n",
    "temp_neg, test_neg = train_test_split(neg_data, train_size=0.4, random_state=42)\n",
    "train_neg, valid_neg = train_test_split(temp_neg, train_size=0.5, random_state=42)\n",
    "\n",
    "# 创建保存文件的文件夹\n",
    "output_folder = f'./{data_name}_5/'\n",
    "os.makedirs(output_folder, exist_ok=True)\n",
    "\n",
    "# 写入数据到文本文件\n",
    "def write_data_to_file(data, filename):\n",
    "    with open(filename, 'w') as f:\n",
    "        for index, row in data.iterrows():\n",
    "            f.write(f\"{row['source']} {row['target']}\\n\")\n",
    "\n",
    "# 保存文件的命名规则\n",
    "file_suffixes = ['train', 'valid', 'test']\n",
    "file_labels = ['pos', 'neg']\n",
    "\n",
    "# 遍历所有组合，写入文本文件\n",
    "for suffix in file_suffixes:\n",
    "    for label in file_labels:\n",
    "        data_to_write = globals()[f'{suffix}_{label}']\n",
    "        filename = os.path.join(output_folder, f'6_{suffix}_{label}.txt')\n",
    "        write_data_to_file(data_to_write, filename)\n",
    "\n",
    "print(\"文件写入完成！\")\n"
   ]
  },
  {
   "cell_type": "code",
   "execution_count": null,
   "id": "7fc2dd22-7112-4fe1-8f57-d4bf5b13fe04",
   "metadata": {},
   "outputs": [],
   "source": []
  }
 ],
 "metadata": {
  "kernelspec": {
   "display_name": "Python 3 (ipykernel)",
   "language": "python",
   "name": "python3"
  },
  "language_info": {
   "codemirror_mode": {
    "name": "ipython",
    "version": 3
   },
   "file_extension": ".py",
   "mimetype": "text/x-python",
   "name": "python",
   "nbconvert_exporter": "python",
   "pygments_lexer": "ipython3",
   "version": "3.8.10"
  }
 },
 "nbformat": 4,
 "nbformat_minor": 5
}
