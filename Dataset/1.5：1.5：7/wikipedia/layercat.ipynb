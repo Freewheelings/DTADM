{
 "cells": [
  {
   "cell_type": "code",
   "execution_count": 1,
   "id": "eda0194e-bb35-4fbb-b15d-a21b2660c109",
   "metadata": {},
   "outputs": [],
   "source": [
    "import os\n",
    "\n",
    "# 获取文件夹中所有的txt文件\n",
    "txt_files = [file for file in os.listdir('.') if file.endswith('.txt')]\n",
    "\n",
    "# 创建一个字典来存储相同数字前缀的文件内容\n",
    "file_contents = {}\n",
    "\n",
    "# 遍历所有txt文件，将内容合并到字典中相同数字前缀的键下\n",
    "for txt_file in txt_files:\n",
    "    parts = txt_file.split('_')\n",
    "    if len(parts) >= 2:\n",
    "        prefix = parts[0]\n",
    "        with open(txt_file, 'r', encoding='utf-8') as f:\n",
    "            content = f.read()\n",
    "            if prefix in file_contents:\n",
    "                file_contents[prefix] += content\n",
    "            else:\n",
    "                file_contents[prefix] = content\n",
    "\n",
    "# 将合并后的内容写入新的txt文件\n",
    "for prefix, content in file_contents.items():\n",
    "    with open(f'{prefix}.txt', 'w', encoding='utf-8') as f:\n",
    "        f.write(content)"
   ]
  },
  {
   "cell_type": "code",
   "execution_count": null,
   "id": "210a2b34-3f54-4e8f-89c0-2f20f549626b",
   "metadata": {},
   "outputs": [],
   "source": []
  }
 ],
 "metadata": {
  "kernelspec": {
   "display_name": "Python 3 (ipykernel)",
   "language": "python",
   "name": "python3"
  },
  "language_info": {
   "codemirror_mode": {
    "name": "ipython",
    "version": 3
   },
   "file_extension": ".py",
   "mimetype": "text/x-python",
   "name": "python",
   "nbconvert_exporter": "python",
   "pygments_lexer": "ipython3",
   "version": "3.8.10"
  }
 },
 "nbformat": 4,
 "nbformat_minor": 5
}
